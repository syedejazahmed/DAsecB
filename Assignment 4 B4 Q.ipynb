{
 "cells": [
  {
   "cell_type": "markdown",
   "id": "f50c28f8-19de-40ce-b6fe-360f1542676f",
   "metadata": {},
   "source": [
    "1-\n",
    "\n",
    "text = 'hello python world'\n",
    "\n",
    "Replace spaces with underscores in the string (e.g., \"hello python world\" → \"hello_python_world\").\n",
    "\n",
    "Split the modified string (e.g., \"hello_python_world\" → ['hello', 'python', 'world']).\n",
    "\n",
    "Print all two results\n",
    "\n",
    "Hint: Use string methods"
   ]
  },
  {
   "cell_type": "code",
   "execution_count": null,
   "id": "14c8b173-7d08-487d-b6fa-76054d47fbf8",
   "metadata": {},
   "outputs": [],
   "source": [
    "# Q 1 solution"
   ]
  },
  {
   "cell_type": "code",
   "execution_count": 21,
   "id": "56bb9136-0ada-4039-9294-f53ed1f34a1e",
   "metadata": {},
   "outputs": [],
   "source": [
    "text = 'hello python world'"
   ]
  },
  {
   "cell_type": "code",
   "execution_count": 22,
   "id": "66d88714-c715-4983-8e44-5965b22b82b1",
   "metadata": {},
   "outputs": [
    {
     "data": {
      "text/plain": [
       "'hello_python_world'"
      ]
     },
     "execution_count": 22,
     "metadata": {},
     "output_type": "execute_result"
    }
   ],
   "source": [
    "text.replace(\" \",\"_\")"
   ]
  },
  {
   "cell_type": "code",
   "execution_count": 23,
   "id": "0a985921-76b0-473e-ad13-40686ed0fc1d",
   "metadata": {},
   "outputs": [
    {
     "data": {
      "text/plain": [
       "['hello', 'python', 'world']"
      ]
     },
     "execution_count": 23,
     "metadata": {},
     "output_type": "execute_result"
    }
   ],
   "source": [
    "text.split()"
   ]
  },
  {
   "cell_type": "code",
   "execution_count": null,
   "id": "a23af1ca-a590-4090-8005-1cbc7e652e45",
   "metadata": {},
   "outputs": [],
   "source": []
  },
  {
   "cell_type": "markdown",
   "id": "f36c5e03-9efc-40f9-833c-23864268173e",
   "metadata": {},
   "source": [
    "2- You have a product code that follows the format \"SKU-12345-XYZ\".\n",
    "\n",
    "Find the first position of the dash (-).\n",
    "\n",
    "Count the number of dashes (-) in the product code.\n",
    "\n",
    "Remove the \"SKU-\" prefix and \"-XYZ\" suffix from the product code, Extract the numeric part 12345\n",
    "\n",
    "product_code = \"SKU-12345-XYZ\"\n",
    "\n",
    "Hint: Use String Methods"
   ]
  },
  {
   "cell_type": "code",
   "execution_count": 24,
   "id": "f6d97d32-ef8b-4984-b54a-ad4ac7af441b",
   "metadata": {},
   "outputs": [],
   "source": [
    "product_code = \"SKU-12345-XYZ\""
   ]
  },
  {
   "cell_type": "code",
   "execution_count": 25,
   "id": "52ee32f5-bde7-463d-ad76-847ed522d210",
   "metadata": {},
   "outputs": [
    {
     "data": {
      "text/plain": [
       "'SKU-12345-XYZ'"
      ]
     },
     "execution_count": 25,
     "metadata": {},
     "output_type": "execute_result"
    }
   ],
   "source": [
    "product_code.strip()"
   ]
  },
  {
   "cell_type": "code",
   "execution_count": null,
   "id": "753b378f-a7a8-41ab-b239-bcce49e5f429",
   "metadata": {},
   "outputs": [],
   "source": [
    "# First dash at index 2\n",
    "#there are two dashes\n"
   ]
  },
  {
   "cell_type": "code",
   "execution_count": 28,
   "id": "3e08bebb-4de7-42b6-8dc6-70455de520b5",
   "metadata": {},
   "outputs": [],
   "source": [
    "product_code = \"SKU-12345-XYZ\""
   ]
  },
  {
   "cell_type": "code",
   "execution_count": 31,
   "id": "176cfc34-a7f3-4697-9a68-821762a3b028",
   "metadata": {},
   "outputs": [
    {
     "data": {
      "text/plain": [
       "'12345'"
      ]
     },
     "execution_count": 31,
     "metadata": {},
     "output_type": "execute_result"
    }
   ],
   "source": [
    "numeric_part = product_code.removeprefix(\"SKU-\").removesuffix(\"-XYZ\")\n",
    "numeric_part"
   ]
  },
  {
   "cell_type": "code",
   "execution_count": 32,
   "id": "74890ee9-fcd8-44e4-b5ce-be5a5cd026e0",
   "metadata": {},
   "outputs": [
    {
     "data": {
      "text/plain": [
       "12345"
      ]
     },
     "execution_count": 32,
     "metadata": {},
     "output_type": "execute_result"
    }
   ],
   "source": [
    "int('12345')"
   ]
  },
  {
   "cell_type": "code",
   "execution_count": null,
   "id": "e39e971e-a927-4d7f-a815-1894153057b7",
   "metadata": {},
   "outputs": [],
   "source": []
  },
  {
   "cell_type": "code",
   "execution_count": null,
   "id": "8c348ec9-3879-4ea1-82c6-12ef38f2c98a",
   "metadata": {},
   "outputs": [],
   "source": []
  },
  {
   "cell_type": "markdown",
   "id": "0d504f74-c0d6-4890-9580-7890bc1dcb43",
   "metadata": {},
   "source": [
    "3- Convert a string to Title Case.\n",
    "\n",
    "text_1 = \"hello world\"\n"
   ]
  },
  {
   "cell_type": "code",
   "execution_count": 33,
   "id": "4b8798f0-47b7-4b45-8bdc-cf3f8b8eb872",
   "metadata": {},
   "outputs": [],
   "source": [
    "text_1 = \"hello world\""
   ]
  },
  {
   "cell_type": "code",
   "execution_count": 38,
   "id": "927f4f54-94ab-4bca-a058-6b1f0740d405",
   "metadata": {},
   "outputs": [
    {
     "data": {
      "text/plain": [
       "'Hello World'"
      ]
     },
     "execution_count": 38,
     "metadata": {},
     "output_type": "execute_result"
    }
   ],
   "source": [
    "title_case_text = text_1.title()\n",
    "title_case_text"
   ]
  },
  {
   "cell_type": "code",
   "execution_count": null,
   "id": "472e0230-95cb-4338-862c-28ca8fa35c0c",
   "metadata": {},
   "outputs": [],
   "source": []
  },
  {
   "cell_type": "code",
   "execution_count": null,
   "id": "345678fe-a214-4eb8-856c-67cd8082c75a",
   "metadata": {},
   "outputs": [],
   "source": []
  },
  {
   "cell_type": "markdown",
   "id": "69a00670-3bd2-4380-bfd6-46f87255ef19",
   "metadata": {},
   "source": [
    "4- Capitalize the first letter of a string.\n",
    "\n",
    "text_2 = \"python programming\""
   ]
  },
  {
   "cell_type": "code",
   "execution_count": 39,
   "id": "05f26d13-cbf4-44df-92a3-c7851aaca438",
   "metadata": {},
   "outputs": [],
   "source": [
    "text_2 = \"python programming\""
   ]
  },
  {
   "cell_type": "code",
   "execution_count": 40,
   "id": "a6ba99ef-7c24-48af-8b80-dd14ee78f610",
   "metadata": {},
   "outputs": [
    {
     "data": {
      "text/plain": [
       "'Python programming'"
      ]
     },
     "execution_count": 40,
     "metadata": {},
     "output_type": "execute_result"
    }
   ],
   "source": [
    "text_capitalized = text_2.capitalize()\n",
    "text_capitalized"
   ]
  },
  {
   "cell_type": "code",
   "execution_count": null,
   "id": "87bac6ce-d1f9-475b-9992-f7ca9dc0ef56",
   "metadata": {},
   "outputs": [],
   "source": []
  },
  {
   "cell_type": "markdown",
   "id": "24a9ded0-9b42-4107-bdd3-da5af3dc1414",
   "metadata": {},
   "source": [
    "5- Given the string below, write Python code to:\n",
    "\n",
    "Convert the string so that each word starts with a capital letter\n",
    "\n",
    "Then swap the case of every letter in the resulting string\n",
    "\n",
    "Print the final result.\n",
    "\n",
    "text1 = \"learning PYTHON is AWESOME\""
   ]
  },
  {
   "cell_type": "code",
   "execution_count": 41,
   "id": "1bde24da-e64e-4c7f-8f8a-3c7e8a8655fc",
   "metadata": {},
   "outputs": [],
   "source": [
    "text1 = \"learning PYTHON is AWESOME\""
   ]
  },
  {
   "cell_type": "code",
   "execution_count": 46,
   "id": "e084701f-6317-44ec-8247-86d5700cac88",
   "metadata": {},
   "outputs": [
    {
     "data": {
      "text/plain": [
       "'Learning Python Is Awesome'"
      ]
     },
     "execution_count": 46,
     "metadata": {},
     "output_type": "execute_result"
    }
   ],
   "source": [
    "capitalized_letter = text1.title()\n",
    "capitalized_letter"
   ]
  },
  {
   "cell_type": "code",
   "execution_count": 47,
   "id": "266519e2-225f-488b-9162-80287f2efa96",
   "metadata": {},
   "outputs": [
    {
     "data": {
      "text/plain": [
       "'LEARNING python IS awesome'"
      ]
     },
     "execution_count": 47,
     "metadata": {},
     "output_type": "execute_result"
    }
   ],
   "source": [
    "swap_letter = text1.swapcase()\n",
    "swap_letter"
   ]
  },
  {
   "cell_type": "code",
   "execution_count": null,
   "id": "e2afdbd9-9635-4e00-ac8c-2c652b5b0248",
   "metadata": {},
   "outputs": [],
   "source": []
  },
  {
   "cell_type": "markdown",
   "id": "99163be0-8b38-4d39-a4d6-8099e6a6eee7",
   "metadata": {},
   "source": [
    "6- \n",
    "\n",
    "Write Python code to check and print whether the string satisfies the following:\n",
    "\n",
    "Is alphanumeric?\n",
    "\n",
    "Is alphabetic only?\n",
    "\n",
    "text2 = \"HelloWorld123\"\n"
   ]
  },
  {
   "cell_type": "code",
   "execution_count": 48,
   "id": "060b10ab-5ba2-408e-a11b-6efa4517ec03",
   "metadata": {},
   "outputs": [],
   "source": [
    "text2 = \"HelloWorld123\""
   ]
  },
  {
   "cell_type": "code",
   "execution_count": 49,
   "id": "8b33abe0-aba2-418a-ae8a-32d7368e10b4",
   "metadata": {},
   "outputs": [
    {
     "data": {
      "text/plain": [
       "True"
      ]
     },
     "execution_count": 49,
     "metadata": {},
     "output_type": "execute_result"
    }
   ],
   "source": [
    "text2.isalnum()"
   ]
  },
  {
   "cell_type": "code",
   "execution_count": 50,
   "id": "f54a9a11-f5e3-4ec7-9ad6-0811e8b0da7a",
   "metadata": {},
   "outputs": [
    {
     "data": {
      "text/plain": [
       "False"
      ]
     },
     "execution_count": 50,
     "metadata": {},
     "output_type": "execute_result"
    }
   ],
   "source": [
    "text2.isalpha()"
   ]
  },
  {
   "cell_type": "markdown",
   "id": "86df8b45-2f46-4da8-b56b-e8967309738d",
   "metadata": {},
   "source": [
    "7- \n",
    "\n",
    "Write Python code to check and print whether the string satisfies the following:\n",
    "\n",
    "Is the string made up of digits only?\n",
    "\n",
    "Is the string all lowercase?\n",
    "\n",
    "text3 = \"helloworld\""
   ]
  },
  {
   "cell_type": "code",
   "execution_count": 51,
   "id": "13836186-3d0e-4964-a496-2bc22493ebbf",
   "metadata": {},
   "outputs": [],
   "source": [
    "text3 = \"helloworld\""
   ]
  },
  {
   "cell_type": "code",
   "execution_count": 52,
   "id": "3c3ac289-fdb0-4e8a-bbbb-123356fa4c2f",
   "metadata": {},
   "outputs": [
    {
     "data": {
      "text/plain": [
       "False"
      ]
     },
     "execution_count": 52,
     "metadata": {},
     "output_type": "execute_result"
    }
   ],
   "source": [
    "text3.isdigit()"
   ]
  },
  {
   "cell_type": "code",
   "execution_count": 53,
   "id": "4034cfd2-c241-43c9-bece-70753b170327",
   "metadata": {},
   "outputs": [
    {
     "data": {
      "text/plain": [
       "True"
      ]
     },
     "execution_count": 53,
     "metadata": {},
     "output_type": "execute_result"
    }
   ],
   "source": [
    "text3.islower()"
   ]
  },
  {
   "cell_type": "markdown",
   "id": "d5abaffa-dab0-4c62-94a6-7639e02d4753",
   "metadata": {},
   "source": [
    "8-\n",
    "\n",
    "Write Python code to check and print whether the string satisfies the following:\n",
    "\n",
    "Is the string all uppercase?\n",
    "\n",
    "Is the string titlecased?\n",
    "\n",
    "text4 = 'Hi We Are Learning Python'"
   ]
  },
  {
   "cell_type": "code",
   "execution_count": 54,
   "id": "c9903452-89d0-4284-8e6c-e4fcd93b728b",
   "metadata": {},
   "outputs": [],
   "source": [
    "text4 = 'Hi We Are Learning Python'"
   ]
  },
  {
   "cell_type": "code",
   "execution_count": 55,
   "id": "4191e8c1-d21c-4e58-96d2-614dc9adcb46",
   "metadata": {},
   "outputs": [
    {
     "data": {
      "text/plain": [
       "False"
      ]
     },
     "execution_count": 55,
     "metadata": {},
     "output_type": "execute_result"
    }
   ],
   "source": [
    "text4.isupper()"
   ]
  },
  {
   "cell_type": "code",
   "execution_count": 56,
   "id": "c493ac93-6db1-45c9-97b6-32abe43bddcc",
   "metadata": {},
   "outputs": [
    {
     "data": {
      "text/plain": [
       "True"
      ]
     },
     "execution_count": 56,
     "metadata": {},
     "output_type": "execute_result"
    }
   ],
   "source": [
    "text4.istitle()"
   ]
  },
  {
   "cell_type": "code",
   "execution_count": null,
   "id": "6e0c4915-d0a1-4799-a35b-7d543d2cf6a4",
   "metadata": {},
   "outputs": [],
   "source": []
  },
  {
   "cell_type": "markdown",
   "id": "005214b5-3e90-488d-9f1a-19fa65b5c830",
   "metadata": {},
   "source": [
    "9- \n",
    "\n",
    "Write Python code to check and print whether the string:\n",
    "\n",
    "Starts with \"data\"\n",
    "\n",
    "Ends with \".csv\"\n",
    "\n",
    "text5 = \"data_report_2023.csv\"\n"
   ]
  },
  {
   "cell_type": "code",
   "execution_count": 57,
   "id": "d49741fd-99c1-4782-a849-39fed7776c75",
   "metadata": {},
   "outputs": [],
   "source": [
    "text5 = \"data_report_2023.csv\"\n",
    "\n"
   ]
  },
  {
   "cell_type": "code",
   "execution_count": 59,
   "id": "73de105c-9ab4-4870-8564-7d68c582158e",
   "metadata": {},
   "outputs": [
    {
     "data": {
      "text/plain": [
       "True"
      ]
     },
     "execution_count": 59,
     "metadata": {},
     "output_type": "execute_result"
    }
   ],
   "source": [
    "start_with_data = text5.startswith(\"data\")\n",
    "start_with_data"
   ]
  },
  {
   "cell_type": "code",
   "execution_count": 60,
   "id": "5f93e8d4-12b0-44b4-a5f2-197fba808a6f",
   "metadata": {},
   "outputs": [
    {
     "data": {
      "text/plain": [
       "True"
      ]
     },
     "execution_count": 60,
     "metadata": {},
     "output_type": "execute_result"
    }
   ],
   "source": [
    "start_with_data = text5.endswith(\"csv\")\n",
    "start_with_data"
   ]
  },
  {
   "cell_type": "markdown",
   "id": "80bc03e1-c9aa-4c73-ab02-8065a93f0ce5",
   "metadata": {},
   "source": [
    "10-\n",
    "\n",
    "Write Python code to:\n",
    "\n",
    "Count how many times \"banana\" appears in the string.\n",
    "\n",
    "fruit = \"banana bandana banana\"\n"
   ]
  },
  {
   "cell_type": "code",
   "execution_count": 61,
   "id": "f24c19d4-2dd0-4a6f-801d-790e3f76f256",
   "metadata": {},
   "outputs": [],
   "source": [
    "fruit = \"banana bandana banana\""
   ]
  },
  {
   "cell_type": "code",
   "execution_count": 63,
   "id": "5fb27986-3bea-4903-ad13-8bf0a1095240",
   "metadata": {},
   "outputs": [
    {
     "data": {
      "text/plain": [
       "2"
      ]
     },
     "execution_count": 63,
     "metadata": {},
     "output_type": "execute_result"
    }
   ],
   "source": [
    "count = fruit.count(\"banana\")\n",
    "count"
   ]
  },
  {
   "cell_type": "code",
   "execution_count": null,
   "id": "e4eeddc9-ebf3-4247-be55-d9273764aeab",
   "metadata": {},
   "outputs": [],
   "source": []
  }
 ],
 "metadata": {
  "kernelspec": {
   "display_name": "Python [conda env:base] *",
   "language": "python",
   "name": "conda-base-py"
  },
  "language_info": {
   "codemirror_mode": {
    "name": "ipython",
    "version": 3
   },
   "file_extension": ".py",
   "mimetype": "text/x-python",
   "name": "python",
   "nbconvert_exporter": "python",
   "pygments_lexer": "ipython3",
   "version": "3.13.5"
  }
 },
 "nbformat": 4,
 "nbformat_minor": 5
}
