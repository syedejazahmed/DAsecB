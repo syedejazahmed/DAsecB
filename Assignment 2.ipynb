{
 "cells": [
  {
   "cell_type": "markdown",
   "id": "7d87f571-a242-41b9-9c68-fa6bdd997971",
   "metadata": {},
   "source": [
    "Q1. Write a program that takes two numbers (a = 15 , b = 4) and prints their:\n",
    "\n",
    "\n",
    "- Sum\n",
    "\n",
    "- Difference\n",
    "\n",
    "- Product\n",
    "\n",
    "- Division\n",
    "\n",
    "- Floor Division\n",
    "\n",
    "- Modulus\n"
   ]
  },
  {
   "cell_type": "markdown",
   "id": "e618f6d3-ca17-4ece-b8c9-203c94ffe413",
   "metadata": {},
   "source": [
    "Q2. Check the type and convert: \n",
    "(num1 = 10, num2 = 5.6, num3 = 4.43, num4='23')\n",
    "\n",
    "- Integer to float\n",
    "\n",
    "- Float to integer\n",
    "\n",
    "- Float to String\n",
    "\n",
    "- String to Integer"
   ]
  },
  {
   "cell_type": "markdown",
   "id": "a3e57ec3-1bd8-475c-b228-29ec62354019",
   "metadata": {},
   "source": [
    "Q3. Write a code to store your favorite food in a variable and print it."
   ]
  },
  {
   "cell_type": "markdown",
   "id": "08809348-2b9b-4f1c-8c07-e4ad0c5275fc",
   "metadata": {},
   "source": [
    "Q4. \"I have 22 apples and 33 mangoes. How many fruits do I have in total?\"\n",
    "\n",
    "apple = '22'\n",
    "\n",
    "mangoes = 33\n",
    "\n"
   ]
  },
  {
   "cell_type": "markdown",
   "id": "e81b7161-6fcd-496e-bd19-62fa05f4a79d",
   "metadata": {},
   "source": [
    "Q5. Store in a varibale: Write Your name , Your age, Add 1 to your age using a variable, Print final age"
   ]
  },
  {
   "cell_type": "markdown",
   "id": "3921c9e1-bcaa-4d48-9d8c-793272315184",
   "metadata": {},
   "source": [
    "Q6.\n",
    "\n",
    "a = 2\n",
    "\n",
    "b = 1\n",
    "\n",
    "c = 6\n",
    "\n",
    "d = 3\n",
    "\n",
    "- Add a and b\n",
    "\n",
    "- Subtract c and a\n",
    "\n",
    "- Multiply d and b\n",
    "\n",
    "- Divide c and d (float division)\n",
    "\n",
    "- Find modulus of c divided by d\n",
    "\n",
    "- Square of (d+a)"
   ]
  },
  {
   "cell_type": "markdown",
   "id": "ed2ae319-5319-4ef4-855d-30ccf8ad87e7",
   "metadata": {},
   "source": [
    "Q7.\n",
    "\n",
    "a = '2'\n",
    "\n",
    "b = '11'\n",
    "\n",
    "c = 6.3\n",
    "\n",
    "- Convert a to integer then add to c\n",
    "\n",
    "- Convert b to float then multiply by c\n",
    "\n",
    "- Convert c to integer then add to c"
   ]
  },
  {
   "cell_type": "markdown",
   "id": "7495b654-f93f-4db6-8c13-ead57196163b",
   "metadata": {},
   "source": [
    "Q8.\n",
    "\n",
    "You were 20 years old in the year 2020.\n",
    "Now add 5 more years to your age.\n",
    "What is your current age now?\n",
    "\n",
    "Store age in a variable called age. Print final output in same variable"
   ]
  },
  {
   "cell_type": "markdown",
   "id": "fb18f8d4-d23c-46c7-a1d3-da578190301c",
   "metadata": {},
   "source": [
    "Q9.\n",
    "\n",
    "You had 12 books, and you gave 4 to your friend.\n",
    "How many books do you have now?\n",
    "\n",
    "Store books in a variable called books. Print final output in same variable"
   ]
  },
  {
   "cell_type": "markdown",
   "id": "9af6924c-6725-459a-b998-8d13fca40fb3",
   "metadata": {},
   "source": [
    "Q10.\n",
    "\n",
    "You baked 5 cookies. You baked 3 times more cookies today.\n",
    "How many cookies did you bake today?\n",
    "\n",
    "Store cookies in a variable called cookies. Print final output in same variable"
   ]
  },
  {
   "cell_type": "code",
   "execution_count": 1,
   "id": "9f1e7f39-0b1c-41f0-8ed3-cb348ec4c525",
   "metadata": {},
   "outputs": [],
   "source": [
    "# ans1 \n",
    "a = 15"
   ]
  },
  {
   "cell_type": "code",
   "execution_count": 2,
   "id": "4b4cf9d3-b7a0-4a34-9d2a-8aeb8af6ec49",
   "metadata": {},
   "outputs": [],
   "source": [
    "b = 4"
   ]
  },
  {
   "cell_type": "code",
   "execution_count": 4,
   "id": "31f96f6d-bcd4-4a55-83f5-aa317170f97d",
   "metadata": {},
   "outputs": [
    {
     "data": {
      "text/plain": [
       "19"
      ]
     },
     "execution_count": 4,
     "metadata": {},
     "output_type": "execute_result"
    }
   ],
   "source": [
    "a + b # sum\n"
   ]
  },
  {
   "cell_type": "code",
   "execution_count": 5,
   "id": "fe38f713-ecde-4550-a731-110d37893837",
   "metadata": {},
   "outputs": [
    {
     "data": {
      "text/plain": [
       "11"
      ]
     },
     "execution_count": 5,
     "metadata": {},
     "output_type": "execute_result"
    }
   ],
   "source": [
    "a-b # difference"
   ]
  },
  {
   "cell_type": "code",
   "execution_count": 6,
   "id": "c0283fc0-157d-4962-9080-51796de9dbd6",
   "metadata": {},
   "outputs": [
    {
     "data": {
      "text/plain": [
       "60"
      ]
     },
     "execution_count": 6,
     "metadata": {},
     "output_type": "execute_result"
    }
   ],
   "source": [
    "a * b # product"
   ]
  },
  {
   "cell_type": "code",
   "execution_count": 7,
   "id": "5e43c1fe-0378-4591-a6b5-15b94a429d04",
   "metadata": {},
   "outputs": [
    {
     "data": {
      "text/plain": [
       "3.75"
      ]
     },
     "execution_count": 7,
     "metadata": {},
     "output_type": "execute_result"
    }
   ],
   "source": [
    "a /b # Division"
   ]
  },
  {
   "cell_type": "code",
   "execution_count": 8,
   "id": "899e9d63-cb5f-4c24-ae30-f54584f6572c",
   "metadata": {},
   "outputs": [
    {
     "data": {
      "text/plain": [
       "3"
      ]
     },
     "execution_count": 8,
     "metadata": {},
     "output_type": "execute_result"
    }
   ],
   "source": [
    "a % b # modulus"
   ]
  },
  {
   "cell_type": "code",
   "execution_count": 10,
   "id": "adb07a8e-36b3-4cd7-a840-5be5b798cd0f",
   "metadata": {},
   "outputs": [],
   "source": [
    "num1 = 10\n"
   ]
  },
  {
   "cell_type": "code",
   "execution_count": 11,
   "id": "21f8a117-37a6-4b12-b776-d40e752549ff",
   "metadata": {},
   "outputs": [],
   "source": [
    "num2 =5.6"
   ]
  },
  {
   "cell_type": "code",
   "execution_count": 12,
   "id": "891e0cfc-482f-4a93-88fc-39483aee58cb",
   "metadata": {},
   "outputs": [],
   "source": [
    "num3 = 4.43"
   ]
  },
  {
   "cell_type": "code",
   "execution_count": 13,
   "id": "6830e125-08b8-4a36-87f7-1c6dfa740b17",
   "metadata": {},
   "outputs": [],
   "source": [
    "num4 = '23'"
   ]
  },
  {
   "cell_type": "code",
   "execution_count": 14,
   "id": "1dfda72d-2563-4a0d-b496-5e643a645e00",
   "metadata": {},
   "outputs": [
    {
     "data": {
      "text/plain": [
       "10.0"
      ]
     },
     "execution_count": 14,
     "metadata": {},
     "output_type": "execute_result"
    }
   ],
   "source": [
    "# Q2\n",
    "float(num1)"
   ]
  },
  {
   "cell_type": "code",
   "execution_count": 16,
   "id": "df96debc-91fc-4f2f-9788-91b3343c882c",
   "metadata": {},
   "outputs": [
    {
     "data": {
      "text/plain": [
       "5"
      ]
     },
     "execution_count": 16,
     "metadata": {},
     "output_type": "execute_result"
    }
   ],
   "source": [
    "int(num2)"
   ]
  },
  {
   "cell_type": "code",
   "execution_count": 17,
   "id": "477e81e6-887e-47b6-9ec6-74d258eab9ca",
   "metadata": {},
   "outputs": [
    {
     "data": {
      "text/plain": [
       "4"
      ]
     },
     "execution_count": 17,
     "metadata": {},
     "output_type": "execute_result"
    }
   ],
   "source": [
    "int(num3)"
   ]
  },
  {
   "cell_type": "code",
   "execution_count": 18,
   "id": "59e3d8b7-402d-496a-974c-bb35937a03bd",
   "metadata": {},
   "outputs": [
    {
     "data": {
      "text/plain": [
       "'5.6'"
      ]
     },
     "execution_count": 18,
     "metadata": {},
     "output_type": "execute_result"
    }
   ],
   "source": [
    "str(num2)"
   ]
  },
  {
   "cell_type": "code",
   "execution_count": 19,
   "id": "1f7587f7-6bab-420f-8c69-bf0fda2ee3d7",
   "metadata": {},
   "outputs": [
    {
     "data": {
      "text/plain": [
       "'4.43'"
      ]
     },
     "execution_count": 19,
     "metadata": {},
     "output_type": "execute_result"
    }
   ],
   "source": [
    "str(num3)"
   ]
  },
  {
   "cell_type": "code",
   "execution_count": 20,
   "id": "10274d0a-f8e0-4577-a607-05b294d4977e",
   "metadata": {},
   "outputs": [
    {
     "data": {
      "text/plain": [
       "23"
      ]
     },
     "execution_count": 20,
     "metadata": {},
     "output_type": "execute_result"
    }
   ],
   "source": [
    "int(num4)"
   ]
  },
  {
   "cell_type": "code",
   "execution_count": 22,
   "id": "ff1d2124-c314-4159-a9ce-8d9eb2137ecf",
   "metadata": {},
   "outputs": [],
   "source": [
    "# Q3\n",
    "favourite_food=('KFC')"
   ]
  },
  {
   "cell_type": "code",
   "execution_count": 23,
   "id": "4059b15c-da24-4dfe-ab19-a0a96967890d",
   "metadata": {},
   "outputs": [
    {
     "name": "stdout",
     "output_type": "stream",
     "text": [
      "KFC\n"
     ]
    }
   ],
   "source": [
    "print(favourite_food)"
   ]
  },
  {
   "cell_type": "code",
   "execution_count": null,
   "id": "866811bb-07a6-4e8f-949a-b7650656c460",
   "metadata": {},
   "outputs": [],
   "source": []
  },
  {
   "cell_type": "code",
   "execution_count": 24,
   "id": "91216e6b-b7ef-47a6-855b-e6d2682356e6",
   "metadata": {},
   "outputs": [],
   "source": [
    "# Q4\n",
    "apple=22"
   ]
  },
  {
   "cell_type": "code",
   "execution_count": 25,
   "id": "47d1599b-9dde-414a-84f6-ad79350a74f0",
   "metadata": {},
   "outputs": [],
   "source": [
    "mangoes=33"
   ]
  },
  {
   "cell_type": "code",
   "execution_count": 26,
   "id": "a7b3bc6e-2e1b-43e9-8039-7d3a4ced1c92",
   "metadata": {},
   "outputs": [
    {
     "name": "stdout",
     "output_type": "stream",
     "text": [
      "55\n"
     ]
    }
   ],
   "source": [
    "print(apple+mangoes)"
   ]
  },
  {
   "cell_type": "code",
   "execution_count": 71,
   "id": "288d1d99-2681-42c6-96ac-f75f957b747f",
   "metadata": {},
   "outputs": [],
   "source": [
    "# Q5\n",
    "name='Ejaz'"
   ]
  },
  {
   "cell_type": "code",
   "execution_count": 72,
   "id": "a0ad76f6-1c39-4ffb-ae87-9f26e268ab47",
   "metadata": {},
   "outputs": [
    {
     "name": "stdout",
     "output_type": "stream",
     "text": [
      "Ejaz\n"
     ]
    }
   ],
   "source": [
    "print(name)"
   ]
  },
  {
   "cell_type": "code",
   "execution_count": 73,
   "id": "85e7e62d-46ee-4a5f-af5a-77472bce5661",
   "metadata": {},
   "outputs": [],
   "source": [
    "age=55"
   ]
  },
  {
   "cell_type": "code",
   "execution_count": 74,
   "id": "aecfa1da-3ff0-4993-a9fd-ef0a345b5177",
   "metadata": {},
   "outputs": [
    {
     "name": "stdout",
     "output_type": "stream",
     "text": [
      "55\n"
     ]
    }
   ],
   "source": [
    "print(age)"
   ]
  },
  {
   "cell_type": "code",
   "execution_count": 75,
   "id": "370c564e-8475-49d2-9581-c24f43ea22f6",
   "metadata": {},
   "outputs": [],
   "source": [
    "age1= age + 1"
   ]
  },
  {
   "cell_type": "code",
   "execution_count": 76,
   "id": "c24e2cb8-abde-4da6-8dd3-1a131f9c2aee",
   "metadata": {},
   "outputs": [
    {
     "name": "stdout",
     "output_type": "stream",
     "text": [
      "56\n"
     ]
    }
   ],
   "source": [
    "print(age1)"
   ]
  },
  {
   "cell_type": "code",
   "execution_count": 35,
   "id": "7cdc1807-aeca-45c6-a233-8c37237edd90",
   "metadata": {},
   "outputs": [],
   "source": [
    "# Q7\n",
    "a='2'"
   ]
  },
  {
   "cell_type": "code",
   "execution_count": 36,
   "id": "9795c752-48e0-4acb-9416-4975d7775511",
   "metadata": {},
   "outputs": [],
   "source": [
    "b='11'"
   ]
  },
  {
   "cell_type": "code",
   "execution_count": 37,
   "id": "fe9fe6a6-3e3d-4ad9-8e06-0170cee36fc4",
   "metadata": {},
   "outputs": [],
   "source": [
    "c=6.3"
   ]
  },
  {
   "cell_type": "code",
   "execution_count": 38,
   "id": "fad6acc4-ac03-47bb-b550-491e81221b4f",
   "metadata": {},
   "outputs": [
    {
     "data": {
      "text/plain": [
       "2"
      ]
     },
     "execution_count": 38,
     "metadata": {},
     "output_type": "execute_result"
    }
   ],
   "source": [
    "int(a)"
   ]
  },
  {
   "cell_type": "code",
   "execution_count": 39,
   "id": "7d217fb0-fe65-4ebd-8ebd-9734bb6eb39b",
   "metadata": {},
   "outputs": [
    {
     "name": "stdout",
     "output_type": "stream",
     "text": [
      "8.3\n"
     ]
    }
   ],
   "source": [
    "print(a+c)"
   ]
  },
  {
   "cell_type": "code",
   "execution_count": 40,
   "id": "614308f3-f502-4a50-b2a4-6eaca5d6d9b9",
   "metadata": {},
   "outputs": [
    {
     "data": {
      "text/plain": [
       "11.0"
      ]
     },
     "execution_count": 40,
     "metadata": {},
     "output_type": "execute_result"
    }
   ],
   "source": [
    "float(b)"
   ]
  },
  {
   "cell_type": "code",
   "execution_count": 78,
   "id": "901746b6-aecb-45ee-a2e7-a0dc876d8730",
   "metadata": {},
   "outputs": [
    {
     "data": {
      "text/plain": [
       "11.0"
      ]
     },
     "execution_count": 78,
     "metadata": {},
     "output_type": "execute_result"
    }
   ],
   "source": [
    "float(b)"
   ]
  },
  {
   "cell_type": "code",
   "execution_count": 79,
   "id": "c13b0e07-bbbb-4553-8e3f-b5bdb4532b5f",
   "metadata": {},
   "outputs": [
    {
     "data": {
      "text/plain": [
       "6.3"
      ]
     },
     "execution_count": 79,
     "metadata": {},
     "output_type": "execute_result"
    }
   ],
   "source": [
    "c"
   ]
  },
  {
   "cell_type": "code",
   "execution_count": 9,
   "id": "43b8cb55-38ca-4bd5-a2e5-0d32618a399c",
   "metadata": {},
   "outputs": [
    {
     "data": {
      "text/plain": [
       "69.3"
      ]
     },
     "execution_count": 9,
     "metadata": {},
     "output_type": "execute_result"
    }
   ],
   "source": [
    "float(b) * c"
   ]
  },
  {
   "cell_type": "code",
   "execution_count": null,
   "id": "7bb088e0-21c5-470f-9cc0-a6721c35a00d",
   "metadata": {},
   "outputs": [],
   "source": []
  },
  {
   "cell_type": "code",
   "execution_count": null,
   "id": "d7fa7ee8-c57e-45ab-9c1e-47a7a483bf70",
   "metadata": {},
   "outputs": [],
   "source": []
  },
  {
   "cell_type": "code",
   "execution_count": 42,
   "id": "5e11bb17-8fab-4fc4-bc0b-d86d30aff994",
   "metadata": {},
   "outputs": [
    {
     "data": {
      "text/plain": [
       "6"
      ]
     },
     "execution_count": 42,
     "metadata": {},
     "output_type": "execute_result"
    }
   ],
   "source": [
    "int(c)"
   ]
  },
  {
   "cell_type": "code",
   "execution_count": 43,
   "id": "422d64ef-53c2-429b-b5d8-cc7e43253c97",
   "metadata": {},
   "outputs": [
    {
     "name": "stdout",
     "output_type": "stream",
     "text": [
      "12.6\n"
     ]
    }
   ],
   "source": [
    "print(c+c)"
   ]
  },
  {
   "cell_type": "code",
   "execution_count": 44,
   "id": "7e712446-bab6-4fca-994a-8ac47ba29c3d",
   "metadata": {},
   "outputs": [],
   "source": [
    "# Q8\n",
    "age_2020 = 20"
   ]
  },
  {
   "cell_type": "code",
   "execution_count": 45,
   "id": "5c9acad8-f9f9-4d0c-b961-f04b3d5b4a9f",
   "metadata": {},
   "outputs": [
    {
     "data": {
      "text/plain": [
       "20"
      ]
     },
     "execution_count": 45,
     "metadata": {},
     "output_type": "execute_result"
    }
   ],
   "source": [
    "age_2020"
   ]
  },
  {
   "cell_type": "code",
   "execution_count": 46,
   "id": "4ffb47de-cfc6-4d35-933d-da521c860b92",
   "metadata": {},
   "outputs": [],
   "source": [
    "age = age_2020 + 5"
   ]
  },
  {
   "cell_type": "code",
   "execution_count": 47,
   "id": "c51dc2bb-068c-41d5-9514-ca1e92ef9524",
   "metadata": {},
   "outputs": [
    {
     "name": "stdout",
     "output_type": "stream",
     "text": [
      "25\n"
     ]
    }
   ],
   "source": [
    "print(age)"
   ]
  },
  {
   "cell_type": "code",
   "execution_count": 63,
   "id": "f891548b-fa79-4be9-8b2b-e5d214470634",
   "metadata": {},
   "outputs": [],
   "source": [
    "# Q9\n",
    "book = 12"
   ]
  },
  {
   "cell_type": "code",
   "execution_count": 64,
   "id": "7be65fd5-73f2-45fc-8b6b-47e611fea445",
   "metadata": {},
   "outputs": [
    {
     "data": {
      "text/plain": [
       "12"
      ]
     },
     "execution_count": 64,
     "metadata": {},
     "output_type": "execute_result"
    }
   ],
   "source": [
    "book"
   ]
  },
  {
   "cell_type": "code",
   "execution_count": 66,
   "id": "3fc57e43-ad3b-4e02-9ae2-11abe1bda9c4",
   "metadata": {},
   "outputs": [],
   "source": [
    "books = (book - 4)\n"
   ]
  },
  {
   "cell_type": "code",
   "execution_count": 67,
   "id": "10d703ba-6fc9-4726-90d1-02e7562098ce",
   "metadata": {},
   "outputs": [
    {
     "data": {
      "text/plain": [
       "8"
      ]
     },
     "execution_count": 67,
     "metadata": {},
     "output_type": "execute_result"
    }
   ],
   "source": [
    "books"
   ]
  },
  {
   "cell_type": "code",
   "execution_count": 69,
   "id": "5e7c50c4-ccad-493e-9c77-99f725a1c038",
   "metadata": {},
   "outputs": [],
   "source": [
    "# Q10\n",
    "cookies = 5 * 3"
   ]
  },
  {
   "cell_type": "code",
   "execution_count": 70,
   "id": "3d801c54-d9e4-4f13-9c4b-8e77643e0bb3",
   "metadata": {},
   "outputs": [
    {
     "data": {
      "text/plain": [
       "15"
      ]
     },
     "execution_count": 70,
     "metadata": {},
     "output_type": "execute_result"
    }
   ],
   "source": [
    "cookies"
   ]
  },
  {
   "cell_type": "code",
   "execution_count": 2,
   "id": "828dc23f-4fce-4eed-b403-3c9dae04e2ec",
   "metadata": {},
   "outputs": [],
   "source": [
    "#Q7\n",
    "b = \"11\""
   ]
  },
  {
   "cell_type": "code",
   "execution_count": 3,
   "id": "6fe003ff-808d-490b-9853-5ed25fd19456",
   "metadata": {},
   "outputs": [],
   "source": [
    "float_b = float(\"11\")"
   ]
  },
  {
   "cell_type": "code",
   "execution_count": 4,
   "id": "3b54bff4-ff30-49a4-9e5f-784b3068e8c7",
   "metadata": {},
   "outputs": [
    {
     "data": {
      "text/plain": [
       "11.0"
      ]
     },
     "execution_count": 4,
     "metadata": {},
     "output_type": "execute_result"
    }
   ],
   "source": [
    "float_b"
   ]
  },
  {
   "cell_type": "code",
   "execution_count": 5,
   "id": "0fcd41d7-01ec-46a1-a052-83b79f89907e",
   "metadata": {},
   "outputs": [],
   "source": [
    "c = 6.3\n"
   ]
  },
  {
   "cell_type": "code",
   "execution_count": 6,
   "id": "1ed8d7b6-12f7-4e22-8b81-84d02dcd106a",
   "metadata": {},
   "outputs": [],
   "source": [
    "result = (float_b* c)"
   ]
  },
  {
   "cell_type": "code",
   "execution_count": 7,
   "id": "6b89a562-0bb4-47a3-9c80-15b4ab99e957",
   "metadata": {},
   "outputs": [
    {
     "data": {
      "text/plain": [
       "69.3"
      ]
     },
     "execution_count": 7,
     "metadata": {},
     "output_type": "execute_result"
    }
   ],
   "source": [
    "result"
   ]
  },
  {
   "cell_type": "code",
   "execution_count": null,
   "id": "f4ed4229-afcc-409c-a158-6bf6ab9aa6fe",
   "metadata": {},
   "outputs": [],
   "source": []
  }
 ],
 "metadata": {
  "kernelspec": {
   "display_name": "Python [conda env:base] *",
   "language": "python",
   "name": "conda-base-py"
  },
  "language_info": {
   "codemirror_mode": {
    "name": "ipython",
    "version": 3
   },
   "file_extension": ".py",
   "mimetype": "text/x-python",
   "name": "python",
   "nbconvert_exporter": "python",
   "pygments_lexer": "ipython3",
   "version": "3.13.5"
  }
 },
 "nbformat": 4,
 "nbformat_minor": 5
}
